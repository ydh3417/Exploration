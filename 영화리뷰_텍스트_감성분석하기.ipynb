{
  "cells": [
    {
      "cell_type": "code",
      "execution_count": 1,
      "metadata": {
        "colab": {
          "base_uri": "https://localhost:8080/"
        },
        "id": "t91fYCHAkLHl",
        "outputId": "cb24ce15-7ca7-46e8-d42e-d812deb3daad"
      },
      "outputs": [
        {
          "output_type": "stream",
          "name": "stdout",
          "text": [
            "Hit:1 https://cloud.r-project.org/bin/linux/ubuntu bionic-cran40/ InRelease\n",
            "Ign:2 https://developer.download.nvidia.com/compute/machine-learning/repos/ubuntu1804/x86_64  InRelease\n",
            "Hit:3 https://developer.download.nvidia.com/compute/cuda/repos/ubuntu1804/x86_64  InRelease\n",
            "Hit:4 https://developer.download.nvidia.com/compute/machine-learning/repos/ubuntu1804/x86_64  Release\n",
            "Hit:5 http://security.ubuntu.com/ubuntu bionic-security InRelease\n",
            "Hit:6 http://archive.ubuntu.com/ubuntu bionic InRelease\n",
            "Hit:7 http://archive.ubuntu.com/ubuntu bionic-updates InRelease\n",
            "Hit:8 http://archive.ubuntu.com/ubuntu bionic-backports InRelease\n",
            "Hit:9 http://ppa.launchpad.net/c2d4u.team/c2d4u4.0+/ubuntu bionic InRelease\n",
            "Hit:11 http://ppa.launchpad.net/cran/libgit2/ubuntu bionic InRelease\n",
            "Hit:12 http://ppa.launchpad.net/deadsnakes/ppa/ubuntu bionic InRelease\n",
            "Hit:13 http://ppa.launchpad.net/graphics-drivers/ppa/ubuntu bionic InRelease\n",
            "Reading package lists...\n",
            "Reading package lists...\n",
            "Building dependency tree...\n",
            "Reading state information...\n",
            "python-dev is already the newest version (2.7.15~rc1-1).\n",
            "g++ is already the newest version (4:7.4.0-1ubuntu2.3).\n",
            "python3-dev is already the newest version (3.6.7-1~18.04).\n",
            "openjdk-8-jdk is already the newest version (8u342-b07-0ubuntu1~18.04).\n",
            "The following package was automatically installed and is no longer required:\n",
            "  libnvidia-common-460\n",
            "Use 'apt autoremove' to remove it.\n",
            "0 upgraded, 0 newly installed, 0 to remove and 25 not upgraded.\n",
            "Looking in indexes: https://pypi.org/simple, https://us-python.pkg.dev/colab-wheels/public/simple/\n",
            "Requirement already satisfied: JPype1 in /usr/local/lib/python3.7/dist-packages (1.4.0)\n",
            "Requirement already satisfied: typing-extensions in /usr/local/lib/python3.7/dist-packages (from JPype1) (4.1.1)\n",
            "Looking in indexes: https://pypi.org/simple, https://us-python.pkg.dev/colab-wheels/public/simple/\n",
            "Requirement already satisfied: konlpy in /usr/local/lib/python3.7/dist-packages (0.6.0)\n",
            "Requirement already satisfied: lxml>=4.1.0 in /usr/local/lib/python3.7/dist-packages (from konlpy) (4.9.1)\n",
            "Requirement already satisfied: numpy>=1.6 in /usr/local/lib/python3.7/dist-packages (from konlpy) (1.21.6)\n",
            "Requirement already satisfied: JPype1>=0.7.0 in /usr/local/lib/python3.7/dist-packages (from konlpy) (1.4.0)\n",
            "Requirement already satisfied: typing-extensions in /usr/local/lib/python3.7/dist-packages (from JPype1>=0.7.0->konlpy) (4.1.1)\n"
          ]
        }
      ],
      "source": [
        "%%bash\n",
        "apt-get update\n",
        "apt-get install g++ openjdk-8-jdk python-dev python3-dev\n",
        "pip3 install JPype1\n",
        "pip3 install konlpy\n"
      ]
    },
    {
      "cell_type": "code",
      "execution_count": 2,
      "metadata": {
        "colab": {
          "base_uri": "https://localhost:8080/"
        },
        "id": "vpZ5lVHkklj5",
        "outputId": "1cc76096-e08c-4ca8-bb4d-87da49b7103e"
      },
      "outputs": [
        {
          "output_type": "stream",
          "name": "stdout",
          "text": [
            "env: JAVA_HOME=\"/usr/lib/jvm/java-8-openjdk-amd64\"\n"
          ]
        }
      ],
      "source": [
        "%env JAVA_HOME \"/usr/lib/jvm/java-8-openjdk-amd64\""
      ]
    },
    {
      "cell_type": "code",
      "execution_count": 3,
      "metadata": {
        "colab": {
          "base_uri": "https://localhost:8080/"
        },
        "id": "IA4iGKNUkn09",
        "outputId": "f859e317-9ba7-46bb-85a2-f53578fd9e90"
      },
      "outputs": [
        {
          "output_type": "stream",
          "name": "stdout",
          "text": [
            "mecab-ko is already installed\n",
            "mecab-ko-dic is already installed\n",
            "mecab-python is already installed\n",
            "Done.\n",
            "Looking in indexes: https://pypi.org/simple, https://us-python.pkg.dev/colab-wheels/public/simple/\n",
            "Processing /tmp/mecab-python-0.996\n",
            "Building wheels for collected packages: mecab-python\n",
            "  Building wheel for mecab-python (setup.py): started\n",
            "  Building wheel for mecab-python (setup.py): finished with status 'done'\n",
            "  Created wheel for mecab-python: filename=mecab_python-0.996_ko_0.9.2-cp37-cp37m-linux_x86_64.whl size=141803 sha256=ffba3a868577eb051b9566e0682997c094e76a7b48ed97ed89f6acea2f60afc5\n",
            "  Stored in directory: /root/.cache/pip/wheels/40/7b/9f/2922869bef86c3354ae7034f7a3647c573ee1997c2dad0290a\n",
            "Failed to build mecab-python\n",
            "Installing collected packages: mecab-python\n",
            "  Attempting uninstall: mecab-python\n",
            "    Found existing installation: mecab-python 0.996-ko-0.9.2\n",
            "    Uninstalling mecab-python-0.996-ko-0.9.2:\n",
            "      Successfully uninstalled mecab-python-0.996-ko-0.9.2\n",
            "    Running setup.py install for mecab-python: started\n",
            "    Running setup.py install for mecab-python: finished with status 'done'\n",
            "Successfully installed mecab-python-0.996-ko-0.9.2\n"
          ]
        },
        {
          "output_type": "stream",
          "name": "stderr",
          "text": [
            "  DEPRECATION: A future pip version will change local packages to be built in-place without first copying to a temporary directory. We recommend you use --use-feature=in-tree-build to test your packages with this new behavior before it becomes the default.\n",
            "   pip 21.3 will remove support for this functionality. You can find discussion regarding this at https://github.com/pypa/pip/issues/7555.\n",
            "  WARNING: Built wheel for mecab-python is invalid: Metadata 1.2 mandates PEP 440 version, but '0.996-ko-0.9.2' is not\n",
            "  DEPRECATION: mecab-python was installed using the legacy 'setup.py install' method, because a wheel could not be built for it. A possible replacement is to fix the wheel build issue reported above. You can find discussion regarding this at https://github.com/pypa/pip/issues/8368.\n"
          ]
        }
      ],
      "source": [
        "%%bash\n",
        "bash <(curl -s https://raw.githubusercontent.com/konlpy/konlpy/master/scripts/mecab.sh)\n",
        "pip3 install /tmp/mecab-python-0.996"
      ]
    },
    {
      "cell_type": "code",
      "execution_count": 4,
      "metadata": {
        "id": "Nqkkz56vkro_"
      },
      "outputs": [],
      "source": [
        "import pandas as pd\n",
        "\n",
        "from konlpy.tag import Mecab\n",
        "import numpy as np\n",
        "from collections import Counter\n",
        "\n",
        "from tensorflow import keras\n",
        "import tensorflow as tf\n",
        "import os\n",
        "\n",
        "import matplotlib.pyplot as plt\n",
        "\n",
        "from gensim.models.keyedvectors import Word2VecKeyedVectors\n",
        "\n",
        "from gensim.models import KeyedVectors\n",
        "\n",
        "from tensorflow.keras.initializers import Constant\n",
        "import pprint\n",
        "\n",
        "import gensim\n",
        "import gensim.models"
      ]
    },
    {
      "cell_type": "code",
      "execution_count": 5,
      "metadata": {
        "colab": {
          "base_uri": "https://localhost:8080/",
          "height": 206
        },
        "id": "_KOZWeGZmwFp",
        "outputId": "9f643cbb-9347-4b29-92db-84321d515152"
      },
      "outputs": [
        {
          "output_type": "execute_result",
          "data": {
            "text/plain": [
              "         id                                           document  label\n",
              "0   9976970                                아 더빙.. 진짜 짜증나네요 목소리      0\n",
              "1   3819312                  흠...포스터보고 초딩영화줄....오버연기조차 가볍지 않구나      1\n",
              "2  10265843                                  너무재밓었다그래서보는것을추천한다      0\n",
              "3   9045019                      교도소 이야기구먼 ..솔직히 재미는 없다..평점 조정      0\n",
              "4   6483659  사이몬페그의 익살스런 연기가 돋보였던 영화!스파이더맨에서 늙어보이기만 했던 커스틴 ...      1"
            ],
            "text/html": [
              "\n",
              "  <div id=\"df-8fa3611a-840b-44b2-9b7c-5f59cf49e686\">\n",
              "    <div class=\"colab-df-container\">\n",
              "      <div>\n",
              "<style scoped>\n",
              "    .dataframe tbody tr th:only-of-type {\n",
              "        vertical-align: middle;\n",
              "    }\n",
              "\n",
              "    .dataframe tbody tr th {\n",
              "        vertical-align: top;\n",
              "    }\n",
              "\n",
              "    .dataframe thead th {\n",
              "        text-align: right;\n",
              "    }\n",
              "</style>\n",
              "<table border=\"1\" class=\"dataframe\">\n",
              "  <thead>\n",
              "    <tr style=\"text-align: right;\">\n",
              "      <th></th>\n",
              "      <th>id</th>\n",
              "      <th>document</th>\n",
              "      <th>label</th>\n",
              "    </tr>\n",
              "  </thead>\n",
              "  <tbody>\n",
              "    <tr>\n",
              "      <th>0</th>\n",
              "      <td>9976970</td>\n",
              "      <td>아 더빙.. 진짜 짜증나네요 목소리</td>\n",
              "      <td>0</td>\n",
              "    </tr>\n",
              "    <tr>\n",
              "      <th>1</th>\n",
              "      <td>3819312</td>\n",
              "      <td>흠...포스터보고 초딩영화줄....오버연기조차 가볍지 않구나</td>\n",
              "      <td>1</td>\n",
              "    </tr>\n",
              "    <tr>\n",
              "      <th>2</th>\n",
              "      <td>10265843</td>\n",
              "      <td>너무재밓었다그래서보는것을추천한다</td>\n",
              "      <td>0</td>\n",
              "    </tr>\n",
              "    <tr>\n",
              "      <th>3</th>\n",
              "      <td>9045019</td>\n",
              "      <td>교도소 이야기구먼 ..솔직히 재미는 없다..평점 조정</td>\n",
              "      <td>0</td>\n",
              "    </tr>\n",
              "    <tr>\n",
              "      <th>4</th>\n",
              "      <td>6483659</td>\n",
              "      <td>사이몬페그의 익살스런 연기가 돋보였던 영화!스파이더맨에서 늙어보이기만 했던 커스틴 ...</td>\n",
              "      <td>1</td>\n",
              "    </tr>\n",
              "  </tbody>\n",
              "</table>\n",
              "</div>\n",
              "      <button class=\"colab-df-convert\" onclick=\"convertToInteractive('df-8fa3611a-840b-44b2-9b7c-5f59cf49e686')\"\n",
              "              title=\"Convert this dataframe to an interactive table.\"\n",
              "              style=\"display:none;\">\n",
              "        \n",
              "  <svg xmlns=\"http://www.w3.org/2000/svg\" height=\"24px\"viewBox=\"0 0 24 24\"\n",
              "       width=\"24px\">\n",
              "    <path d=\"M0 0h24v24H0V0z\" fill=\"none\"/>\n",
              "    <path d=\"M18.56 5.44l.94 2.06.94-2.06 2.06-.94-2.06-.94-.94-2.06-.94 2.06-2.06.94zm-11 1L8.5 8.5l.94-2.06 2.06-.94-2.06-.94L8.5 2.5l-.94 2.06-2.06.94zm10 10l.94 2.06.94-2.06 2.06-.94-2.06-.94-.94-2.06-.94 2.06-2.06.94z\"/><path d=\"M17.41 7.96l-1.37-1.37c-.4-.4-.92-.59-1.43-.59-.52 0-1.04.2-1.43.59L10.3 9.45l-7.72 7.72c-.78.78-.78 2.05 0 2.83L4 21.41c.39.39.9.59 1.41.59.51 0 1.02-.2 1.41-.59l7.78-7.78 2.81-2.81c.8-.78.8-2.07 0-2.86zM5.41 20L4 18.59l7.72-7.72 1.47 1.35L5.41 20z\"/>\n",
              "  </svg>\n",
              "      </button>\n",
              "      \n",
              "  <style>\n",
              "    .colab-df-container {\n",
              "      display:flex;\n",
              "      flex-wrap:wrap;\n",
              "      gap: 12px;\n",
              "    }\n",
              "\n",
              "    .colab-df-convert {\n",
              "      background-color: #E8F0FE;\n",
              "      border: none;\n",
              "      border-radius: 50%;\n",
              "      cursor: pointer;\n",
              "      display: none;\n",
              "      fill: #1967D2;\n",
              "      height: 32px;\n",
              "      padding: 0 0 0 0;\n",
              "      width: 32px;\n",
              "    }\n",
              "\n",
              "    .colab-df-convert:hover {\n",
              "      background-color: #E2EBFA;\n",
              "      box-shadow: 0px 1px 2px rgba(60, 64, 67, 0.3), 0px 1px 3px 1px rgba(60, 64, 67, 0.15);\n",
              "      fill: #174EA6;\n",
              "    }\n",
              "\n",
              "    [theme=dark] .colab-df-convert {\n",
              "      background-color: #3B4455;\n",
              "      fill: #D2E3FC;\n",
              "    }\n",
              "\n",
              "    [theme=dark] .colab-df-convert:hover {\n",
              "      background-color: #434B5C;\n",
              "      box-shadow: 0px 1px 3px 1px rgba(0, 0, 0, 0.15);\n",
              "      filter: drop-shadow(0px 1px 2px rgba(0, 0, 0, 0.3));\n",
              "      fill: #FFFFFF;\n",
              "    }\n",
              "  </style>\n",
              "\n",
              "      <script>\n",
              "        const buttonEl =\n",
              "          document.querySelector('#df-8fa3611a-840b-44b2-9b7c-5f59cf49e686 button.colab-df-convert');\n",
              "        buttonEl.style.display =\n",
              "          google.colab.kernel.accessAllowed ? 'block' : 'none';\n",
              "\n",
              "        async function convertToInteractive(key) {\n",
              "          const element = document.querySelector('#df-8fa3611a-840b-44b2-9b7c-5f59cf49e686');\n",
              "          const dataTable =\n",
              "            await google.colab.kernel.invokeFunction('convertToInteractive',\n",
              "                                                     [key], {});\n",
              "          if (!dataTable) return;\n",
              "\n",
              "          const docLinkHtml = 'Like what you see? Visit the ' +\n",
              "            '<a target=\"_blank\" href=https://colab.research.google.com/notebooks/data_table.ipynb>data table notebook</a>'\n",
              "            + ' to learn more about interactive tables.';\n",
              "          element.innerHTML = '';\n",
              "          dataTable['output_type'] = 'display_data';\n",
              "          await google.colab.output.renderOutput(dataTable, element);\n",
              "          const docLink = document.createElement('div');\n",
              "          docLink.innerHTML = docLinkHtml;\n",
              "          element.appendChild(docLink);\n",
              "        }\n",
              "      </script>\n",
              "    </div>\n",
              "  </div>\n",
              "  "
            ]
          },
          "metadata": {},
          "execution_count": 5
        }
      ],
      "source": [
        "train_data = pd.read_table('/content/drive/MyDrive/Colab Notebooks/movie_ratings/ratings_train.txt')\n",
        "test_data = pd.read_table('/content/drive/MyDrive/Colab Notebooks/movie_ratings/ratings_test.txt')\n",
        "\n",
        "train_data.head()"
      ]
    },
    {
      "cell_type": "code",
      "execution_count": 6,
      "metadata": {
        "id": "ugz68ZhdnsJ1"
      },
      "outputs": [],
      "source": [
        "tokenizer = Mecab()\n",
        "stopwords = ['의','가','이','은','들','는','좀','잘','걍','과','도','를','으로','자','에','와','한','하다']\n",
        "\n",
        "def load_data(train_data, test_data, num_words=10000):\n",
        "    train_data.drop_duplicates(subset=['document'], inplace=True)\n",
        "    train_data = train_data.dropna(how = 'any') \n",
        "    test_data.drop_duplicates(subset=['document'], inplace=True)\n",
        "    test_data = test_data.dropna(how = 'any') \n",
        "    \n",
        "    X_train = []\n",
        "    for sentence in train_data['document']:\n",
        "        temp_X = tokenizer.morphs(sentence) \n",
        "        temp_X = [word for word in temp_X if not word in stopwords] \n",
        "        X_train.append(temp_X)\n",
        "\n",
        "    X_test = []\n",
        "    for sentence in test_data['document']:\n",
        "        temp_X = tokenizer.morphs(sentence) \n",
        "        temp_X = [word for word in temp_X if not word in stopwords]\n",
        "        X_test.append(temp_X)\n",
        "    \n",
        "    words = np.concatenate(X_train).tolist()\n",
        "    counter = Counter(words)\n",
        "    counter = counter.most_common(10000-4)\n",
        "    vocab = ['<PAD>', '<BOS>', '<UNK>', '<UNUSED>'] + [key for key, _ in counter]  \n",
        "    word_to_index = {word:index for index, word in enumerate(vocab)}\n",
        "        \n",
        "    def wordlist_to_indexlist(wordlist):\n",
        "        return [word_to_index[word] if word in word_to_index else word_to_index['<UNK>'] for word in wordlist]  \n",
        "        \n",
        "    X_train = list(map(wordlist_to_indexlist, X_train))\n",
        "    X_test = list(map(wordlist_to_indexlist, X_test))\n",
        "        \n",
        "    return X_train, np.array(list(train_data['label'])), X_test, np.array(list(test_data['label'])), word_to_index\n",
        "    \n",
        "X_train, y_train, X_test, y_test, word_to_index = load_data(train_data, test_data)"
      ]
    },
    {
      "cell_type": "code",
      "execution_count": 7,
      "metadata": {
        "id": "eHOAcXjfnvgq"
      },
      "outputs": [],
      "source": [
        "index_to_word = {index:word for word, index in word_to_index.items()}"
      ]
    },
    {
      "cell_type": "code",
      "execution_count": 8,
      "metadata": {
        "id": "e6qgX-qnn5HC"
      },
      "outputs": [],
      "source": [
        "def get_encoded_sentence(sentence, word_to_index):\n",
        "    return [word_to_index['<BOS>']]+[word_to_index[word] if word in word_to_index else word_to_index['<UNK>'] for word in sentence.split()]\n",
        "\n",
        "def get_encoded_sentences(sentences, word_to_index):\n",
        "    return [get_encoded_sentence(sentence, word_to_index) for sentence in sentences]\n",
        "\n",
        "def get_decoded_sentence(encoded_sentence, index_to_word):\n",
        "    return ' '.join(index_to_word[index] if index in index_to_word else '<UNK>' for index in encoded_sentence[1:])  \n",
        "\n",
        "def get_decoded_sentences(encoded_sentences, index_to_word):\n",
        "    return [get_decoded_sentence(encoded_sentence, index_to_word) for encoded_sentence in encoded_sentences]"
      ]
    },
    {
      "cell_type": "code",
      "execution_count": 9,
      "metadata": {
        "colab": {
          "base_uri": "https://localhost:8080/"
        },
        "id": "ByrtzHYuoCtG",
        "outputId": "ce4c34e7-7069-4ae8-b8d2-49dd2fed3230"
      },
      "outputs": [
        {
          "output_type": "stream",
          "name": "stdout",
          "text": [
            "문장길이 평균 :  15.96938143432699\n",
            "문장길이 최대 :  116\n",
            "문장길이 표준편차 :  12.843571939469296\n",
            "pad_sequences maxlen :  41\n",
            "전체 문장의 0.9342988343341575%가 maxlen 설정값 이내에 포함됩니다. \n"
          ]
        }
      ],
      "source": [
        "total_data_text = list(X_train) + list(X_test)\n",
        "\n",
        "num_tokens = [len(tokens) for tokens in total_data_text]\n",
        "num_tokens = np.array(num_tokens)\n",
        "\n",
        "print('문장길이 평균 : ', np.mean(num_tokens))\n",
        "print('문장길이 최대 : ', np.max(num_tokens))\n",
        "print('문장길이 표준편차 : ', np.std(num_tokens))\n",
        "\n",
        "\n",
        "max_tokens = np.mean(num_tokens) + 2 * np.std(num_tokens)\n",
        "maxlen = int(max_tokens) \n",
        "print('pad_sequences maxlen : ', maxlen)\n",
        "print('전체 문장의 {}%가 maxlen 설정값 이내에 포함됩니다. '.format(np.sum(num_tokens < max_tokens) / len(num_tokens)))"
      ]
    },
    {
      "cell_type": "code",
      "execution_count": 10,
      "metadata": {
        "id": "J_1RwlRvoGT2"
      },
      "outputs": [],
      "source": [
        "X_train = keras.preprocessing.sequence.pad_sequences(X_train,\n",
        "                                                        value=word_to_index[\"<PAD>\"],\n",
        "                                                        padding='pre',\n",
        "                                                        maxlen=maxlen)\n",
        "\n",
        "X_test = keras.preprocessing.sequence.pad_sequences(X_test,\n",
        "                                                       value=word_to_index[\"<PAD>\"],\n",
        "                                                       padding='pre',\n",
        "                                                       maxlen=maxlen)"
      ]
    },
    {
      "cell_type": "code",
      "execution_count": 11,
      "metadata": {
        "colab": {
          "base_uri": "https://localhost:8080/"
        },
        "id": "UMDnLy4loKSQ",
        "outputId": "0a369023-0d8a-40df-ab14-2145425d1269"
      },
      "outputs": [
        {
          "output_type": "stream",
          "name": "stdout",
          "text": [
            "Model: \"sequential\"\n",
            "_________________________________________________________________\n",
            " Layer (type)                Output Shape              Param #   \n",
            "=================================================================\n",
            " embedding (Embedding)       (None, None, 16)          160000    \n",
            "                                                                 \n",
            " lstm (LSTM)                 (None, 8)                 800       \n",
            "                                                                 \n",
            " dense (Dense)               (None, 8)                 72        \n",
            "                                                                 \n",
            " dense_1 (Dense)             (None, 1)                 9         \n",
            "                                                                 \n",
            "=================================================================\n",
            "Total params: 160,881\n",
            "Trainable params: 160,881\n",
            "Non-trainable params: 0\n",
            "_________________________________________________________________\n"
          ]
        }
      ],
      "source": [
        "vocab_size = 10000    \n",
        "word_vector_dim = 16  \n",
        "\n",
        "\n",
        "model = keras.Sequential()\n",
        "model.add(keras.layers.Embedding(vocab_size, word_vector_dim, input_shape=(None,)))\n",
        "model.add(keras.layers.LSTM(8))   \n",
        "model.add(keras.layers.Dense(8, activation='relu'))\n",
        "model.add(keras.layers.Dense(1, activation='sigmoid'))  \n",
        "\n",
        "model.summary()"
      ]
    },
    {
      "cell_type": "code",
      "execution_count": 12,
      "metadata": {
        "colab": {
          "base_uri": "https://localhost:8080/"
        },
        "id": "_AazeacCoPBb",
        "outputId": "732754da-8ea8-4a40-f5b9-1bcc25e9111b"
      },
      "outputs": [
        {
          "output_type": "stream",
          "name": "stdout",
          "text": [
            "(136182, 41)\n",
            "(136182,)\n"
          ]
        }
      ],
      "source": [
        "X_val = X_train[:10000]   \n",
        "y_val = y_train[:10000]\n",
        "\n",
        "\n",
        "partial_X_train = X_train[10000:]  \n",
        "partial_y_train = y_train[10000:]\n",
        "\n",
        "print(partial_X_train.shape)\n",
        "print(partial_y_train.shape)"
      ]
    },
    {
      "cell_type": "code",
      "execution_count": 13,
      "metadata": {
        "colab": {
          "base_uri": "https://localhost:8080/"
        },
        "id": "xyC5hs3PoXNb",
        "outputId": "ea0774bd-5acc-4631-e78c-5113dca89ce7"
      },
      "outputs": [
        {
          "output_type": "stream",
          "name": "stdout",
          "text": [
            "Epoch 1/20\n",
            "266/266 [==============================] - 5s 8ms/step - loss: 0.4798 - accuracy: 0.7922 - val_loss: 0.3578 - val_accuracy: 0.8466\n",
            "Epoch 2/20\n",
            "266/266 [==============================] - 2s 6ms/step - loss: 0.3373 - accuracy: 0.8570 - val_loss: 0.3420 - val_accuracy: 0.8491\n",
            "Epoch 3/20\n",
            "266/266 [==============================] - 2s 6ms/step - loss: 0.3167 - accuracy: 0.8661 - val_loss: 0.3352 - val_accuracy: 0.8521\n",
            "Epoch 4/20\n",
            "266/266 [==============================] - 2s 6ms/step - loss: 0.3050 - accuracy: 0.8700 - val_loss: 0.3362 - val_accuracy: 0.8537\n",
            "Epoch 5/20\n",
            "266/266 [==============================] - 2s 6ms/step - loss: 0.2952 - accuracy: 0.8755 - val_loss: 0.3356 - val_accuracy: 0.8537\n",
            "Epoch 6/20\n",
            "266/266 [==============================] - 2s 6ms/step - loss: 0.2857 - accuracy: 0.8791 - val_loss: 0.3393 - val_accuracy: 0.8543\n",
            "Epoch 7/20\n",
            "266/266 [==============================] - 2s 6ms/step - loss: 0.2749 - accuracy: 0.8829 - val_loss: 0.3454 - val_accuracy: 0.8555\n",
            "Epoch 8/20\n",
            "266/266 [==============================] - 2s 6ms/step - loss: 0.2639 - accuracy: 0.8878 - val_loss: 0.3498 - val_accuracy: 0.8535\n",
            "Epoch 9/20\n",
            "266/266 [==============================] - 2s 6ms/step - loss: 0.2517 - accuracy: 0.8931 - val_loss: 0.3613 - val_accuracy: 0.8547\n",
            "Epoch 10/20\n",
            "266/266 [==============================] - 2s 6ms/step - loss: 0.2399 - accuracy: 0.8987 - val_loss: 0.3703 - val_accuracy: 0.8513\n",
            "Epoch 11/20\n",
            "266/266 [==============================] - 2s 6ms/step - loss: 0.2291 - accuracy: 0.9039 - val_loss: 0.3854 - val_accuracy: 0.8508\n",
            "Epoch 12/20\n",
            "266/266 [==============================] - 2s 6ms/step - loss: 0.2197 - accuracy: 0.9082 - val_loss: 0.4151 - val_accuracy: 0.8512\n",
            "Epoch 13/20\n",
            "266/266 [==============================] - 2s 6ms/step - loss: 0.2106 - accuracy: 0.9128 - val_loss: 0.4329 - val_accuracy: 0.8496\n",
            "Epoch 14/20\n",
            "266/266 [==============================] - 2s 6ms/step - loss: 0.2022 - accuracy: 0.9173 - val_loss: 0.4283 - val_accuracy: 0.8486\n",
            "Epoch 15/20\n",
            "266/266 [==============================] - 2s 6ms/step - loss: 0.1943 - accuracy: 0.9206 - val_loss: 0.4514 - val_accuracy: 0.8456\n",
            "Epoch 16/20\n",
            "266/266 [==============================] - 2s 6ms/step - loss: 0.1881 - accuracy: 0.9245 - val_loss: 0.4575 - val_accuracy: 0.8448\n",
            "Epoch 17/20\n",
            "266/266 [==============================] - 2s 6ms/step - loss: 0.1825 - accuracy: 0.9273 - val_loss: 0.4857 - val_accuracy: 0.8436\n",
            "Epoch 18/20\n",
            "266/266 [==============================] - 2s 6ms/step - loss: 0.1757 - accuracy: 0.9305 - val_loss: 0.5089 - val_accuracy: 0.8430\n",
            "Epoch 19/20\n",
            "266/266 [==============================] - 2s 6ms/step - loss: 0.1703 - accuracy: 0.9333 - val_loss: 0.5501 - val_accuracy: 0.8443\n",
            "Epoch 20/20\n",
            "266/266 [==============================] - 2s 6ms/step - loss: 0.1654 - accuracy: 0.9355 - val_loss: 0.5317 - val_accuracy: 0.8410\n"
          ]
        }
      ],
      "source": [
        "model.compile(optimizer='adam',\n",
        "              loss='binary_crossentropy',\n",
        "              metrics=['accuracy'])\n",
        "              \n",
        "epochs=20   \n",
        "\n",
        "history = model.fit(partial_X_train,\n",
        "                    partial_y_train,\n",
        "                    epochs=epochs,\n",
        "                    batch_size=512,\n",
        "                    validation_data=(X_val, y_val),\n",
        "                    verbose=1)"
      ]
    },
    {
      "cell_type": "code",
      "source": [
        "results = model.evaluate(X_test,  y_test, verbose=2)\n",
        "\n",
        "print(results)"
      ],
      "metadata": {
        "colab": {
          "base_uri": "https://localhost:8080/"
        },
        "id": "pyp0WW1nrNtv",
        "outputId": "59c264f5-772a-49c1-ae57-6ea630f9e98f"
      },
      "execution_count": 14,
      "outputs": [
        {
          "output_type": "stream",
          "name": "stdout",
          "text": [
            "1537/1537 - 4s - loss: 0.5413 - accuracy: 0.8357 - 4s/epoch - 2ms/step\n",
            "[0.5413153171539307, 0.8357304334640503]\n"
          ]
        }
      ]
    },
    {
      "cell_type": "code",
      "source": [
        "history_dict = history.history\n",
        "print(history_dict.keys())"
      ],
      "metadata": {
        "colab": {
          "base_uri": "https://localhost:8080/"
        },
        "id": "eVjnRozsrS3b",
        "outputId": "0fa38fc8-9202-42ca-fa9e-26332a4b4ec4"
      },
      "execution_count": 15,
      "outputs": [
        {
          "output_type": "stream",
          "name": "stdout",
          "text": [
            "dict_keys(['loss', 'accuracy', 'val_loss', 'val_accuracy'])\n"
          ]
        }
      ]
    },
    {
      "cell_type": "code",
      "source": [
        "acc = history_dict['accuracy']\n",
        "val_acc = history_dict['val_accuracy']\n",
        "loss = history_dict['loss']\n",
        "val_loss = history_dict['val_loss']\n",
        "\n",
        "epochs = range(1, len(acc) + 1)\n",
        "\n",
        "\n",
        "plt.plot(epochs, loss, 'bo', label='Training loss')\n",
        "\n",
        "plt.plot(epochs, val_loss, 'b', label='Validation loss')\n",
        "plt.title('Training and validation loss')\n",
        "plt.xlabel('Epochs')\n",
        "plt.ylabel('Loss')\n",
        "plt.legend()\n",
        "\n",
        "plt.show()"
      ],
      "metadata": {
        "colab": {
          "base_uri": "https://localhost:8080/",
          "height": 295
        },
        "id": "LZLE8SNZrV-7",
        "outputId": "24b45d9c-8b15-40ac-f0e6-3782792724fd"
      },
      "execution_count": 16,
      "outputs": [
        {
          "output_type": "display_data",
          "data": {
            "text/plain": [
              "<Figure size 432x288 with 1 Axes>"
            ],
            "image/png": "[encoded data removed]"
          },
          "metadata": {
            "needs_background": "light"
          }
        }
      ]
    },
    {
      "cell_type": "code",
      "source": [
        "plt.clf()   \n",
        "plt.plot(epochs, acc, 'bo', label='Training acc')\n",
        "plt.plot(epochs, val_acc, 'b', label='Validation acc')\n",
        "plt.title('Training and validation accuracy')\n",
        "plt.xlabel('Epochs')\n",
        "plt.ylabel('Accuracy')\n",
        "plt.legend()\n",
        "\n",
        "plt.show()"
      ],
      "metadata": {
        "colab": {
          "base_uri": "https://localhost:8080/",
          "height": 295
        },
        "id": "PtAMuk4qrZss",
        "outputId": "e0966066-0428-4eba-fa11-a762dab28ec6"
      },
      "execution_count": 17,
      "outputs": [
        {
          "output_type": "display_data",
          "data": {
            "text/plain": [
              "<Figure size 432x288 with 1 Axes>"
            ],
            "image/png": "[encoded data removed]"
          },
          "metadata": {
            "needs_background": "light"
          }
        }
      ]
    },
    {
      "cell_type": "code",
      "source": [
        "embedding_layer = model.layers[0]\n",
        "weights = embedding_layer.get_weights()[0]\n",
        "print(weights.shape)"
      ],
      "metadata": {
        "colab": {
          "base_uri": "https://localhost:8080/"
        },
        "id": "cKkOu0Lzrei4",
        "outputId": "0bb992de-9ed7-44d2-d079-98b14a24fa48"
      },
      "execution_count": 18,
      "outputs": [
        {
          "output_type": "stream",
          "name": "stdout",
          "text": [
            "(10000, 16)\n"
          ]
        }
      ]
    },
    {
      "cell_type": "code",
      "source": [
        "word2vec_file_path = (\"/content/drive/MyDrive/Colab Notebooks/movie_ratings/word2vec_rnn.txt\")\n",
        "f = open(word2vec_file_path, 'w')\n",
        "f.write('{} {}\\n'.format(vocab_size-4, word_vector_dim))  \n",
        "\n",
        "vectors = model.get_weights()[0]\n",
        "for i in range(4,vocab_size):\n",
        "    f.write('{} {}\\n'.format(index_to_word[i], ' '.join(map(str, list(vectors[i, :])))))\n",
        "f.close()"
      ],
      "metadata": {
        "id": "RQ0-g3qDrhuh"
      },
      "execution_count": 19,
      "outputs": []
    },
    {
      "cell_type": "code",
      "source": [
        "word_vectors = Word2VecKeyedVectors.load_word2vec_format(word2vec_file_path, binary=False)"
      ],
      "metadata": {
        "id": "1gtpH8HbsI8A"
      },
      "execution_count": 20,
      "outputs": []
    },
    {
      "cell_type": "code",
      "source": [
        "from gensim.models.keyedvectors import Word2VecKeyedVectors\n",
        "\n",
        "word_vectors = Word2VecKeyedVectors.load_word2vec_format(word2vec_file_path, binary=False)\n",
        "vector = word_vectors['재미']\n",
        "vector"
      ],
      "metadata": {
        "colab": {
          "base_uri": "https://localhost:8080/"
        },
        "id": "rH4l4ubusLak",
        "outputId": "19a32f3a-768b-4fb3-ab32-0bd45c18e5d1"
      },
      "execution_count": 21,
      "outputs": [
        {
          "output_type": "execute_result",
          "data": {
            "text/plain": [
              "array([ 0.01869267, -0.19983435,  0.12557437,  0.00739905,  0.03243783,\n",
              "        0.39274025,  0.01414399,  0.01719122,  0.02532523,  0.08193634,\n",
              "       -0.14893802,  0.07802918,  0.00865892, -0.06072466, -0.00463236,\n",
              "       -0.00923406], dtype=float32)"
            ]
          },
          "metadata": {},
          "execution_count": 21
        }
      ]
    },
    {
      "cell_type": "code",
      "source": [
        "word_vectors.similar_by_word(\"재미\")"
      ],
      "metadata": {
        "colab": {
          "base_uri": "https://localhost:8080/"
        },
        "id": "qeqCUHT0sPW7",
        "outputId": "ca2861d6-d407-4364-9486-cf45f79c1734"
      },
      "execution_count": 22,
      "outputs": [
        {
          "output_type": "execute_result",
          "data": {
            "text/plain": [
              "[('이렇게', 0.9380940198898315),\n",
              " ('진짜', 0.89439857006073),\n",
              " ('완전', 0.8906502723693848),\n",
              " ('집중', 0.8878754377365112),\n",
              " ('정말', 0.8871647119522095),\n",
              " ('거의', 0.879216194152832),\n",
              " ('너무', 0.8507815599441528),\n",
              " ('넘', 0.8230140209197998),\n",
              " ('짠해', 0.8146696090698242),\n",
              " ('가치', 0.8083150386810303)]"
            ]
          },
          "metadata": {},
          "execution_count": 22
        }
      ]
    },
    {
      "cell_type": "code",
      "source": [
        "vocab_size = 10000    \n",
        "word_vector_dim = 16  \n",
        "\n",
        "\n",
        "model = keras.Sequential()\n",
        "model.add(keras.layers.Embedding(vocab_size, word_vector_dim, input_shape=(None,)))\n",
        "model.add(keras.layers.Conv1D(16, 7, activation='relu'))\n",
        "model.add(keras.layers.MaxPooling1D(5))\n",
        "model.add(keras.layers.Conv1D(16, 7, activation='relu'))\n",
        "model.add(keras.layers.GlobalMaxPooling1D())\n",
        "model.add(keras.layers.Dense(8, activation='relu'))\n",
        "model.add(keras.layers.Dense(1, activation='sigmoid'))  \n",
        "\n",
        "model.summary()"
      ],
      "metadata": {
        "colab": {
          "base_uri": "https://localhost:8080/"
        },
        "id": "YpIh84lYsViQ",
        "outputId": "d472ebaa-0886-42a8-86a7-6c6453cf7733"
      },
      "execution_count": 23,
      "outputs": [
        {
          "output_type": "stream",
          "name": "stdout",
          "text": [
            "Model: \"sequential_1\"\n",
            "_________________________________________________________________\n",
            " Layer (type)                Output Shape              Param #   \n",
            "=================================================================\n",
            " embedding_1 (Embedding)     (None, None, 16)          160000    \n",
            "                                                                 \n",
            " conv1d (Conv1D)             (None, None, 16)          1808      \n",
            "                                                                 \n",
            " max_pooling1d (MaxPooling1D  (None, None, 16)         0         \n",
            " )                                                               \n",
            "                                                                 \n",
            " conv1d_1 (Conv1D)           (None, None, 16)          1808      \n",
            "                                                                 \n",
            " global_max_pooling1d (Globa  (None, 16)               0         \n",
            " lMaxPooling1D)                                                  \n",
            "                                                                 \n",
            " dense_2 (Dense)             (None, 8)                 136       \n",
            "                                                                 \n",
            " dense_3 (Dense)             (None, 1)                 9         \n",
            "                                                                 \n",
            "=================================================================\n",
            "Total params: 163,761\n",
            "Trainable params: 163,761\n",
            "Non-trainable params: 0\n",
            "_________________________________________________________________\n"
          ]
        }
      ]
    },
    {
      "cell_type": "code",
      "source": [
        "X_val = X_train[:10000]   \n",
        "y_val = y_train[:10000]\n",
        "\n",
        "partial_X_train = X_train[10000:]  \n",
        "partial_y_train = y_train[10000:]\n",
        "\n",
        "print(partial_X_train.shape)\n",
        "print(partial_y_train.shape)"
      ],
      "metadata": {
        "colab": {
          "base_uri": "https://localhost:8080/"
        },
        "id": "YyuX9BlJsZNs",
        "outputId": "94cd02b0-8976-44c8-aaa2-057d8f343328"
      },
      "execution_count": 24,
      "outputs": [
        {
          "output_type": "stream",
          "name": "stdout",
          "text": [
            "(136182, 41)\n",
            "(136182,)\n"
          ]
        }
      ]
    },
    {
      "cell_type": "code",
      "source": [
        "model.compile(optimizer='adam',\n",
        "              loss='binary_crossentropy',\n",
        "              metrics=['accuracy'])\n",
        "              \n",
        "epochs=20  \n",
        "history = model.fit(partial_X_train,\n",
        "                    partial_y_train,\n",
        "                    epochs=epochs,\n",
        "                    batch_size=512,\n",
        "                    validation_data=(X_val, y_val),\n",
        "                    verbose=1)"
      ],
      "metadata": {
        "colab": {
          "base_uri": "https://localhost:8080/"
        },
        "id": "p1aB9UL8scEO",
        "outputId": "4d76f4fa-ace5-4f75-d7ae-ecfde3dae9b0"
      },
      "execution_count": 25,
      "outputs": [
        {
          "output_type": "stream",
          "name": "stdout",
          "text": [
            "Epoch 1/20\n",
            "266/266 [==============================] - 3s 6ms/step - loss: 0.4789 - accuracy: 0.7687 - val_loss: 0.3500 - val_accuracy: 0.8464\n",
            "Epoch 2/20\n",
            "266/266 [==============================] - 1s 5ms/step - loss: 0.3275 - accuracy: 0.8604 - val_loss: 0.3304 - val_accuracy: 0.8563\n",
            "Epoch 3/20\n",
            "266/266 [==============================] - 1s 5ms/step - loss: 0.2942 - accuracy: 0.8779 - val_loss: 0.3279 - val_accuracy: 0.8565\n",
            "Epoch 4/20\n",
            "266/266 [==============================] - 1s 5ms/step - loss: 0.2671 - accuracy: 0.8913 - val_loss: 0.3265 - val_accuracy: 0.8582\n",
            "Epoch 5/20\n",
            "266/266 [==============================] - 1s 5ms/step - loss: 0.2391 - accuracy: 0.9054 - val_loss: 0.3373 - val_accuracy: 0.8555\n",
            "Epoch 6/20\n",
            "266/266 [==============================] - 1s 5ms/step - loss: 0.2100 - accuracy: 0.9194 - val_loss: 0.3646 - val_accuracy: 0.8525\n",
            "Epoch 7/20\n",
            "266/266 [==============================] - 1s 5ms/step - loss: 0.1801 - accuracy: 0.9339 - val_loss: 0.3868 - val_accuracy: 0.8493\n",
            "Epoch 8/20\n",
            "266/266 [==============================] - 1s 5ms/step - loss: 0.1526 - accuracy: 0.9458 - val_loss: 0.4191 - val_accuracy: 0.8451\n",
            "Epoch 9/20\n",
            "266/266 [==============================] - 1s 5ms/step - loss: 0.1280 - accuracy: 0.9566 - val_loss: 0.4605 - val_accuracy: 0.8438\n",
            "Epoch 10/20\n",
            "266/266 [==============================] - 1s 5ms/step - loss: 0.1087 - accuracy: 0.9646 - val_loss: 0.4933 - val_accuracy: 0.8438\n",
            "Epoch 11/20\n",
            "266/266 [==============================] - 1s 5ms/step - loss: 0.0937 - accuracy: 0.9704 - val_loss: 0.5440 - val_accuracy: 0.8388\n",
            "Epoch 12/20\n",
            "266/266 [==============================] - 1s 5ms/step - loss: 0.0810 - accuracy: 0.9755 - val_loss: 0.5681 - val_accuracy: 0.8339\n",
            "Epoch 13/20\n",
            "266/266 [==============================] - 1s 5ms/step - loss: 0.0715 - accuracy: 0.9790 - val_loss: 0.6232 - val_accuracy: 0.8333\n",
            "Epoch 14/20\n",
            "266/266 [==============================] - 1s 5ms/step - loss: 0.0645 - accuracy: 0.9811 - val_loss: 0.6567 - val_accuracy: 0.8310\n",
            "Epoch 15/20\n",
            "266/266 [==============================] - 1s 5ms/step - loss: 0.0588 - accuracy: 0.9829 - val_loss: 0.6837 - val_accuracy: 0.8308\n",
            "Epoch 16/20\n",
            "266/266 [==============================] - 1s 5ms/step - loss: 0.0538 - accuracy: 0.9844 - val_loss: 0.7315 - val_accuracy: 0.8285\n",
            "Epoch 17/20\n",
            "266/266 [==============================] - 2s 6ms/step - loss: 0.0498 - accuracy: 0.9856 - val_loss: 0.7572 - val_accuracy: 0.8289\n",
            "Epoch 18/20\n",
            "266/266 [==============================] - 2s 7ms/step - loss: 0.0461 - accuracy: 0.9865 - val_loss: 0.7892 - val_accuracy: 0.8241\n",
            "Epoch 19/20\n",
            "266/266 [==============================] - 3s 13ms/step - loss: 0.0430 - accuracy: 0.9875 - val_loss: 0.8393 - val_accuracy: 0.8248\n",
            "Epoch 20/20\n",
            "266/266 [==============================] - 3s 11ms/step - loss: 0.0406 - accuracy: 0.9885 - val_loss: 0.8530 - val_accuracy: 0.8242\n"
          ]
        }
      ]
    },
    {
      "cell_type": "code",
      "source": [
        "results = model.evaluate(X_test,  y_test, verbose=2)\n",
        "\n",
        "print(results)"
      ],
      "metadata": {
        "colab": {
          "base_uri": "https://localhost:8080/"
        },
        "id": "XvghJD_DszB0",
        "outputId": "95ca0bfe-e7f1-4a46-d27d-d1f4f9d85ca6"
      },
      "execution_count": 26,
      "outputs": [
        {
          "output_type": "stream",
          "name": "stdout",
          "text": [
            "1537/1537 - 5s - loss: 0.8737 - accuracy: 0.8194 - 5s/epoch - 3ms/step\n",
            "[0.873726487159729, 0.8194153308868408]\n"
          ]
        }
      ]
    },
    {
      "cell_type": "code",
      "source": [
        "history_dict = history.history\n",
        "print(history_dict.keys()) "
      ],
      "metadata": {
        "colab": {
          "base_uri": "https://localhost:8080/"
        },
        "id": "VsWFjHRQs4mm",
        "outputId": "5ad26650-a04b-4aad-cb14-22e53b1a5d89"
      },
      "execution_count": 27,
      "outputs": [
        {
          "output_type": "stream",
          "name": "stdout",
          "text": [
            "dict_keys(['loss', 'accuracy', 'val_loss', 'val_accuracy'])\n"
          ]
        }
      ]
    },
    {
      "cell_type": "code",
      "source": [
        "acc = history_dict['accuracy']\n",
        "val_acc = history_dict['val_accuracy']\n",
        "loss = history_dict['loss']\n",
        "val_loss = history_dict['val_loss']\n",
        "\n",
        "epochs = range(1, len(acc) + 1)\n",
        "\n",
        "plt.plot(epochs, loss, 'bo', label='Training loss')\n",
        "\n",
        "plt.plot(epochs, val_loss, 'b', label='Validation loss')\n",
        "plt.title('Training and validation loss')\n",
        "plt.xlabel('Epochs')\n",
        "plt.ylabel('Loss')\n",
        "plt.legend()\n",
        "\n",
        "plt.show()"
      ],
      "metadata": {
        "colab": {
          "base_uri": "https://localhost:8080/",
          "height": 295
        },
        "id": "YFoE8clcs7c5",
        "outputId": "35bf3b6d-59c5-4b8d-9408-61ff3d5ece17"
      },
      "execution_count": 28,
      "outputs": [
        {
          "output_type": "display_data",
          "data": {
            "text/plain": [
              "<Figure size 432x288 with 1 Axes>"
            ],
            "image/png": "[encoded data removed]"
          },
          "metadata": {
            "needs_background": "light"
          }
        }
      ]
    },
    {
      "cell_type": "code",
      "source": [
        "plt.clf()   \n",
        "\n",
        "plt.plot(epochs, acc, 'bo', label='Training acc')\n",
        "plt.plot(epochs, val_acc, 'b', label='Validation acc')\n",
        "plt.title('Training and validation accuracy')\n",
        "plt.xlabel('Epochs')\n",
        "plt.ylabel('Accuracy')\n",
        "plt.legend()\n",
        "\n",
        "plt.show()"
      ],
      "metadata": {
        "colab": {
          "base_uri": "https://localhost:8080/",
          "height": 295
        },
        "id": "1M-9Uwees-hz",
        "outputId": "770ede13-0683-417a-9586-7af0587e165c"
      },
      "execution_count": 29,
      "outputs": [
        {
          "output_type": "display_data",
          "data": {
            "text/plain": [
              "<Figure size 432x288 with 1 Axes>"
            ],
            "image/png": "[encoded data removed]"
          },
          "metadata": {
            "needs_background": "light"
          }
        }
      ]
    },
    {
      "cell_type": "code",
      "source": [
        "embedding_layer = model.layers[0]\n",
        "weights = embedding_layer.get_weights()[0]\n",
        "print(weights.shape)"
      ],
      "metadata": {
        "colab": {
          "base_uri": "https://localhost:8080/"
        },
        "id": "y612YOCatFGH",
        "outputId": "3a4b0101-ce4c-4ead-9434-824c1113b14f"
      },
      "execution_count": 30,
      "outputs": [
        {
          "output_type": "stream",
          "name": "stdout",
          "text": [
            "(10000, 16)\n"
          ]
        }
      ]
    },
    {
      "cell_type": "code",
      "source": [
        "word2vec_file_path = (\"/content/drive/MyDrive/Colab Notebooks/movie_ratings/word2vec_cnn.txt\")\n",
        "f = open(word2vec_file_path, 'w')\n",
        "f.write('{} {}\\n'.format(vocab_size-4, word_vector_dim))  \n",
        "\n",
        "vectors = model.get_weights()[0]\n",
        "for i in range(4,vocab_size):\n",
        "    f.write('{} {}\\n'.format(index_to_word[i], ' '.join(map(str, list(vectors[i, :])))))\n",
        "f.close()"
      ],
      "metadata": {
        "id": "UISODtU5tJIt"
      },
      "execution_count": 31,
      "outputs": []
    },
    {
      "cell_type": "code",
      "source": [
        "word_vectors = Word2VecKeyedVectors.load_word2vec_format(word2vec_file_path, binary=False)"
      ],
      "metadata": {
        "id": "H4XmgavutP_h"
      },
      "execution_count": 32,
      "outputs": []
    },
    {
      "cell_type": "code",
      "source": [
        "from gensim.models.keyedvectors import Word2VecKeyedVectors\n",
        "\n",
        "word_vectors = Word2VecKeyedVectors.load_word2vec_format(word2vec_file_path, binary=False)\n",
        "vector = word_vectors['재미']\n",
        "vector"
      ],
      "metadata": {
        "colab": {
          "base_uri": "https://localhost:8080/"
        },
        "id": "9urVsyjytSuR",
        "outputId": "973b36d0-3973-4b5c-ed11-f2b193c44df4"
      },
      "execution_count": 33,
      "outputs": [
        {
          "output_type": "execute_result",
          "data": {
            "text/plain": [
              "array([ 0.14171083,  0.04438479,  0.04970426, -0.00230057,  0.16611929,\n",
              "        0.03979312,  0.14859648, -0.0479232 ,  0.00559331,  0.07430028,\n",
              "       -0.12035052, -0.00530599, -0.07264458, -0.01018787,  0.11486394,\n",
              "        0.0533487 ], dtype=float32)"
            ]
          },
          "metadata": {},
          "execution_count": 33
        }
      ]
    },
    {
      "cell_type": "code",
      "source": [
        "word_vectors.similar_by_word(\"재미\")"
      ],
      "metadata": {
        "colab": {
          "base_uri": "https://localhost:8080/"
        },
        "id": "TLj92H1LtX5Q",
        "outputId": "29645754-b234-4088-abbd-f0d9a502522b"
      },
      "execution_count": 34,
      "outputs": [
        {
          "output_type": "execute_result",
          "data": {
            "text/plain": [
              "[('유죄', 0.8408588171005249),\n",
              " ('만한', 0.8132571578025818),\n",
              " ('을수록', 0.809852123260498),\n",
              " ('찾아보', 0.7896904945373535),\n",
              " ('넘', 0.7677587270736694),\n",
              " ('원장', 0.7664070725440979),\n",
              " ('떄', 0.7624630928039551),\n",
              " ('박시후', 0.7584497332572937),\n",
              " ('심은하', 0.7533740997314453),\n",
              " ('웹', 0.7493941187858582)]"
            ]
          },
          "metadata": {},
          "execution_count": 34
        }
      ]
    },
    {
      "cell_type": "code",
      "source": [
        "vocab_size = 10000    \n",
        "word_vector_dim = 16  \n",
        "\n",
        "\n",
        "model = keras.Sequential()\n",
        "model.add(keras.layers.Embedding(vocab_size, word_vector_dim, input_shape=(None,)))\n",
        "model.add(keras.layers.GlobalMaxPooling1D())\n",
        "model.add(keras.layers.Dense(8, activation='relu'))\n",
        "model.add(keras.layers.Dense(1, activation='sigmoid'))  \n",
        "\n",
        "model.summary()"
      ],
      "metadata": {
        "colab": {
          "base_uri": "https://localhost:8080/"
        },
        "id": "IeSO2Zbytg4S",
        "outputId": "24f4432e-67b8-4305-8211-1806e122660d"
      },
      "execution_count": 35,
      "outputs": [
        {
          "output_type": "stream",
          "name": "stdout",
          "text": [
            "Model: \"sequential_2\"\n",
            "_________________________________________________________________\n",
            " Layer (type)                Output Shape              Param #   \n",
            "=================================================================\n",
            " embedding_2 (Embedding)     (None, None, 16)          160000    \n",
            "                                                                 \n",
            " global_max_pooling1d_1 (Glo  (None, 16)               0         \n",
            " balMaxPooling1D)                                                \n",
            "                                                                 \n",
            " dense_4 (Dense)             (None, 8)                 136       \n",
            "                                                                 \n",
            " dense_5 (Dense)             (None, 1)                 9         \n",
            "                                                                 \n",
            "=================================================================\n",
            "Total params: 160,145\n",
            "Trainable params: 160,145\n",
            "Non-trainable params: 0\n",
            "_________________________________________________________________\n"
          ]
        }
      ]
    },
    {
      "cell_type": "code",
      "source": [
        "X_val = X_train[:10000]   \n",
        "y_val = y_train[:10000]\n",
        "\n",
        "partial_X_train = X_train[10000:]  \n",
        "partial_y_train = y_train[10000:]\n",
        "\n",
        "print(partial_X_train.shape)\n",
        "print(partial_y_train.shape)"
      ],
      "metadata": {
        "colab": {
          "base_uri": "https://localhost:8080/"
        },
        "id": "_RqmAe8xtjXJ",
        "outputId": "dad4a404-d75b-478c-c2a2-e0765dc928bd"
      },
      "execution_count": 36,
      "outputs": [
        {
          "output_type": "stream",
          "name": "stdout",
          "text": [
            "(136182, 41)\n",
            "(136182,)\n"
          ]
        }
      ]
    },
    {
      "cell_type": "code",
      "source": [
        "model.compile(optimizer='adam',\n",
        "              loss='binary_crossentropy',\n",
        "              metrics=['accuracy'])\n",
        "              \n",
        "epochs=20  \n",
        "\n",
        "history = model.fit(partial_X_train,\n",
        "                    partial_y_train,\n",
        "                    epochs=epochs,\n",
        "                    batch_size=512,\n",
        "                    validation_data=(X_val, y_val),\n",
        "                    verbose=1)"
      ],
      "metadata": {
        "colab": {
          "base_uri": "https://localhost:8080/"
        },
        "id": "IH4ofMO6tl-F",
        "outputId": "750cb046-220e-4879-b027-75f733c3b2d8"
      },
      "execution_count": 37,
      "outputs": [
        {
          "output_type": "stream",
          "name": "stdout",
          "text": [
            "Epoch 1/20\n",
            "266/266 [==============================] - 4s 10ms/step - loss: 0.5646 - accuracy: 0.7557 - val_loss: 0.3977 - val_accuracy: 0.8288\n",
            "Epoch 2/20\n",
            "266/266 [==============================] - 2s 8ms/step - loss: 0.3609 - accuracy: 0.8443 - val_loss: 0.3522 - val_accuracy: 0.8424\n",
            "Epoch 3/20\n",
            "266/266 [==============================] - 2s 7ms/step - loss: 0.3182 - accuracy: 0.8654 - val_loss: 0.3450 - val_accuracy: 0.8493\n",
            "Epoch 4/20\n",
            "266/266 [==============================] - 2s 7ms/step - loss: 0.2937 - accuracy: 0.8771 - val_loss: 0.3480 - val_accuracy: 0.8489\n",
            "Epoch 5/20\n",
            "266/266 [==============================] - 1s 4ms/step - loss: 0.2752 - accuracy: 0.8866 - val_loss: 0.3523 - val_accuracy: 0.8480\n",
            "Epoch 6/20\n",
            "266/266 [==============================] - 1s 4ms/step - loss: 0.2599 - accuracy: 0.8939 - val_loss: 0.3585 - val_accuracy: 0.8472\n",
            "Epoch 7/20\n",
            "266/266 [==============================] - 1s 4ms/step - loss: 0.2469 - accuracy: 0.8999 - val_loss: 0.3657 - val_accuracy: 0.8484\n",
            "Epoch 8/20\n",
            "266/266 [==============================] - 1s 4ms/step - loss: 0.2355 - accuracy: 0.9056 - val_loss: 0.3756 - val_accuracy: 0.8455\n",
            "Epoch 9/20\n",
            "266/266 [==============================] - 1s 4ms/step - loss: 0.2256 - accuracy: 0.9103 - val_loss: 0.3861 - val_accuracy: 0.8418\n",
            "Epoch 10/20\n",
            "266/266 [==============================] - 1s 4ms/step - loss: 0.2165 - accuracy: 0.9148 - val_loss: 0.3970 - val_accuracy: 0.8384\n",
            "Epoch 11/20\n",
            "266/266 [==============================] - 1s 4ms/step - loss: 0.2084 - accuracy: 0.9188 - val_loss: 0.4083 - val_accuracy: 0.8392\n",
            "Epoch 12/20\n",
            "266/266 [==============================] - 1s 4ms/step - loss: 0.2005 - accuracy: 0.9225 - val_loss: 0.4195 - val_accuracy: 0.8384\n",
            "Epoch 13/20\n",
            "266/266 [==============================] - 1s 4ms/step - loss: 0.1939 - accuracy: 0.9261 - val_loss: 0.4298 - val_accuracy: 0.8373\n",
            "Epoch 14/20\n",
            "266/266 [==============================] - 1s 4ms/step - loss: 0.1875 - accuracy: 0.9287 - val_loss: 0.4431 - val_accuracy: 0.8339\n",
            "Epoch 15/20\n",
            "266/266 [==============================] - 1s 4ms/step - loss: 0.1818 - accuracy: 0.9321 - val_loss: 0.4538 - val_accuracy: 0.8328\n",
            "Epoch 16/20\n",
            "266/266 [==============================] - 1s 4ms/step - loss: 0.1766 - accuracy: 0.9345 - val_loss: 0.4632 - val_accuracy: 0.8287\n",
            "Epoch 17/20\n",
            "266/266 [==============================] - 1s 4ms/step - loss: 0.1719 - accuracy: 0.9366 - val_loss: 0.4743 - val_accuracy: 0.8305\n",
            "Epoch 18/20\n",
            "266/266 [==============================] - 1s 4ms/step - loss: 0.1673 - accuracy: 0.9386 - val_loss: 0.4866 - val_accuracy: 0.8296\n",
            "Epoch 19/20\n",
            "266/266 [==============================] - 1s 4ms/step - loss: 0.1631 - accuracy: 0.9408 - val_loss: 0.4963 - val_accuracy: 0.8280\n",
            "Epoch 20/20\n",
            "266/266 [==============================] - 1s 4ms/step - loss: 0.1597 - accuracy: 0.9418 - val_loss: 0.5060 - val_accuracy: 0.8253\n"
          ]
        }
      ]
    },
    {
      "cell_type": "code",
      "source": [
        "history_dict = history.history\n",
        "print(history_dict.keys())"
      ],
      "metadata": {
        "colab": {
          "base_uri": "https://localhost:8080/"
        },
        "id": "2lrjkDNztzCD",
        "outputId": "f647a884-ac5e-440e-9a94-08b2e750f72c"
      },
      "execution_count": 38,
      "outputs": [
        {
          "output_type": "stream",
          "name": "stdout",
          "text": [
            "dict_keys(['loss', 'accuracy', 'val_loss', 'val_accuracy'])\n"
          ]
        }
      ]
    },
    {
      "cell_type": "code",
      "source": [
        "acc = history_dict['accuracy']\n",
        "val_acc = history_dict['val_accuracy']\n",
        "loss = history_dict['loss']\n",
        "val_loss = history_dict['val_loss']\n",
        "\n",
        "epochs = range(1, len(acc) + 1)\n",
        "\n",
        "\n",
        "plt.plot(epochs, loss, 'bo', label='Training loss')\n",
        "plt.plot(epochs, val_loss, 'b', label='Validation loss')\n",
        "plt.title('Training and validation loss')\n",
        "plt.xlabel('Epochs')\n",
        "plt.ylabel('Loss')\n",
        "plt.legend()\n",
        "\n",
        "plt.show()"
      ],
      "metadata": {
        "colab": {
          "base_uri": "https://localhost:8080/",
          "height": 295
        },
        "id": "xUuyBFaPt1jx",
        "outputId": "0c75cb7f-602c-449d-afd7-5175e5a709bb"
      },
      "execution_count": 39,
      "outputs": [
        {
          "output_type": "display_data",
          "data": {
            "text/plain": [
              "<Figure size 432x288 with 1 Axes>"
            ],
            "image/png": "[encoded data removed]"
          },
          "metadata": {
            "needs_background": "light"
          }
        }
      ]
    },
    {
      "cell_type": "code",
      "source": [
        "plt.clf()   \n",
        "\n",
        "plt.plot(epochs, acc, 'bo', label='Training acc')\n",
        "plt.plot(epochs, val_acc, 'b', label='Validation acc')\n",
        "plt.title('Training and validation accuracy')\n",
        "plt.xlabel('Epochs')\n",
        "plt.ylabel('Accuracy')\n",
        "plt.legend()\n",
        "\n",
        "plt.show()"
      ],
      "metadata": {
        "colab": {
          "base_uri": "https://localhost:8080/",
          "height": 295
        },
        "id": "qHjaBj7rt5VM",
        "outputId": "53dc90c0-9cce-44a6-8683-d4ca8a3f7ec3"
      },
      "execution_count": 40,
      "outputs": [
        {
          "output_type": "display_data",
          "data": {
            "text/plain": [
              "<Figure size 432x288 with 1 Axes>"
            ],
            "image/png": "[encoded data removed]"
          },
          "metadata": {
            "needs_background": "light"
          }
        }
      ]
    },
    {
      "cell_type": "code",
      "source": [
        "embedding_layer = model.layers[0]\n",
        "weights = embedding_layer.get_weights()[0]\n",
        "print(weights.shape) "
      ],
      "metadata": {
        "colab": {
          "base_uri": "https://localhost:8080/"
        },
        "id": "hUVmq9aIuBm5",
        "outputId": "17584082-51f4-4939-de47-33314ab68c1d"
      },
      "execution_count": 41,
      "outputs": [
        {
          "output_type": "stream",
          "name": "stdout",
          "text": [
            "(10000, 16)\n"
          ]
        }
      ]
    },
    {
      "cell_type": "code",
      "source": [
        "word2vec_file_path = (\"/content/drive/MyDrive/Colab Notebooks/movie_ratings/word2vec_gmp.txt\")\n",
        "f = open(word2vec_file_path, 'w')\n",
        "f.write('{} {}\\n'.format(vocab_size-4, word_vector_dim))  \n",
        "\n",
        "vectors = model.get_weights()[0]\n",
        "for i in range(4,vocab_size):\n",
        "    f.write('{} {}\\n'.format(index_to_word[i], ' '.join(map(str, list(vectors[i, :])))))\n",
        "f.close()"
      ],
      "metadata": {
        "id": "yfnlv6T8uEGA"
      },
      "execution_count": 42,
      "outputs": []
    },
    {
      "cell_type": "code",
      "source": [
        "word_vectors = Word2VecKeyedVectors.load_word2vec_format(word2vec_file_path, binary=False)"
      ],
      "metadata": {
        "id": "TPYqtXNruGQT"
      },
      "execution_count": 43,
      "outputs": []
    },
    {
      "cell_type": "code",
      "source": [
        "from gensim.models.keyedvectors import Word2VecKeyedVectors\n",
        "\n",
        "word_vectors = Word2VecKeyedVectors.load_word2vec_format(word2vec_file_path, binary=False)\n",
        "vector = word_vectors['재미']\n",
        "vector"
      ],
      "metadata": {
        "colab": {
          "base_uri": "https://localhost:8080/"
        },
        "id": "dF2M0Js3uIrP",
        "outputId": "c0a9ee71-8710-4578-bf2d-ccaf7bbc2844"
      },
      "execution_count": 44,
      "outputs": [
        {
          "output_type": "execute_result",
          "data": {
            "text/plain": [
              "array([-0.14860709, -0.22880132,  0.04299865, -0.18426251,  0.05219719,\n",
              "        0.04134523, -0.1118443 , -0.34905916, -0.00414323,  0.18645777,\n",
              "       -0.10054284, -0.11278304, -0.01067339,  0.00643397, -0.12457545,\n",
              "       -0.09450629], dtype=float32)"
            ]
          },
          "metadata": {},
          "execution_count": 44
        }
      ]
    },
    {
      "cell_type": "code",
      "source": [
        "word_vectors.similar_by_word(\"재미\")"
      ],
      "metadata": {
        "colab": {
          "base_uri": "https://localhost:8080/"
        },
        "id": "N7FBDaHguIi8",
        "outputId": "bf65d7b7-fb9f-4414-8af1-5314400915e3"
      },
      "execution_count": 45,
      "outputs": [
        {
          "output_type": "execute_result",
          "data": {
            "text/plain": [
              "[('가져', 0.8416370749473572),\n",
              " ('나올까', 0.828810453414917),\n",
              " ('끗', 0.8192663192749023),\n",
              " ('아아', 0.8132162690162659),\n",
              " ('존나', 0.8104289174079895),\n",
              " ('김수로', 0.807068943977356),\n",
              " ('ㅐ', 0.7960994839668274),\n",
              " ('짝', 0.7915866374969482),\n",
              " ('아내', 0.7869472503662109),\n",
              " ('장진', 0.7862621545791626)]"
            ]
          },
          "metadata": {},
          "execution_count": 45
        }
      ]
    },
    {
      "cell_type": "code",
      "source": [
        "from gensim.models import KeyedVectors\n",
        "\n",
        "word2vec_path = (\"/content/drive/MyDrive/Colab Notebooks/movie_ratings/korean_embedding/word2vec_ko.model\")\n",
        "word2vec = gensim.models.Word2Vec.load(word2vec_path)"
      ],
      "metadata": {
        "id": "stz4IWDQzPlm"
      },
      "execution_count": 46,
      "outputs": []
    },
    {
      "cell_type": "code",
      "source": [
        "word2vec.similar_by_word(\"재미\")"
      ],
      "metadata": {
        "colab": {
          "base_uri": "https://localhost:8080/"
        },
        "id": "I0ulChGBzxLr",
        "outputId": "86a3cc72-79da-409e-f9f2-f32aeec261f2"
      },
      "execution_count": 47,
      "outputs": [
        {
          "output_type": "stream",
          "name": "stderr",
          "text": [
            "/usr/local/lib/python3.7/dist-packages/ipykernel_launcher.py:1: DeprecationWarning: Call to deprecated `similar_by_word` (Method will be removed in 4.0.0, use self.wv.similar_by_word() instead).\n",
            "  \"\"\"Entry point for launching an IPython kernel.\n"
          ]
        },
        {
          "output_type": "execute_result",
          "data": {
            "text/plain": [
              "[('묘미', 0.6163142919540405),\n",
              " ('취미', 0.6034970283508301),\n",
              " ('흥미', 0.5939850807189941),\n",
              " ('유머', 0.5888698101043701),\n",
              " ('보람', 0.5689517259597778),\n",
              " ('즐거움', 0.5631207823753357),\n",
              " ('개그', 0.5552945137023926),\n",
              " ('이야기', 0.5536993741989136),\n",
              " ('연애', 0.5522936582565308),\n",
              " ('열의', 0.5464565753936768)]"
            ]
          },
          "metadata": {},
          "execution_count": 47
        }
      ]
    },
    {
      "cell_type": "code",
      "source": [
        "from tensorflow.keras.initializers import Constant\n",
        "\n",
        "vocab_size = 10000    \n",
        "word_vector_dim = 100  \n",
        "embedding_matrix = np.random.rand(vocab_size, word_vector_dim)\n",
        "\n",
        "for i in range(4,vocab_size):\n",
        "  if index_to_word[i] in word2vec:\n",
        "    embedding_matrix[i] = word2vec[index_to_word[i]]"
      ],
      "metadata": {
        "colab": {
          "base_uri": "https://localhost:8080/"
        },
        "id": "SFOXXLE7zzOa",
        "outputId": "f07bfe31-6c2d-4868-a4b8-6b3602ba2eae"
      },
      "execution_count": 53,
      "outputs": [
        {
          "output_type": "stream",
          "name": "stderr",
          "text": [
            "/usr/local/lib/python3.7/dist-packages/ipykernel_launcher.py:9: DeprecationWarning: Call to deprecated `__contains__` (Method will be removed in 4.0.0, use self.wv.__contains__() instead).\n",
            "  if __name__ == '__main__':\n",
            "/usr/local/lib/python3.7/dist-packages/ipykernel_launcher.py:10: DeprecationWarning: Call to deprecated `__getitem__` (Method will be removed in 4.0.0, use self.wv.__getitem__() instead).\n",
            "  # Remove the CWD from sys.path while we load stuff.\n"
          ]
        }
      ]
    },
    {
      "cell_type": "code",
      "source": [
        "model = keras.Sequential()\n",
        "model.add(keras.layers.Embedding(vocab_size, \n",
        "                                 word_vector_dim, \n",
        "                                 embeddings_initializer=Constant(embedding_matrix),  \n",
        "                                 input_length=maxlen, \n",
        "                                 trainable=True))   \n",
        "model.add(keras.layers.LSTM(128))\n",
        "model.add(keras.layers.Dense(1, activation='sigmoid'))\n",
        "\n",
        "model.summary()"
      ],
      "metadata": {
        "colab": {
          "base_uri": "https://localhost:8080/"
        },
        "id": "zWE8MoBVz3bL",
        "outputId": "2d47b623-eb33-4fc0-dff1-73bd61d1bfa1"
      },
      "execution_count": 54,
      "outputs": [
        {
          "output_type": "stream",
          "name": "stdout",
          "text": [
            "Model: \"sequential_3\"\n",
            "_________________________________________________________________\n",
            " Layer (type)                Output Shape              Param #   \n",
            "=================================================================\n",
            " embedding_3 (Embedding)     (None, 41, 100)           1000000   \n",
            "                                                                 \n",
            " lstm_1 (LSTM)               (None, 128)               117248    \n",
            "                                                                 \n",
            " dense_6 (Dense)             (None, 1)                 129       \n",
            "                                                                 \n",
            "=================================================================\n",
            "Total params: 1,117,377\n",
            "Trainable params: 1,117,377\n",
            "Non-trainable params: 0\n",
            "_________________________________________________________________\n"
          ]
        }
      ]
    },
    {
      "cell_type": "code",
      "source": [
        "model.compile(optimizer='adam',\n",
        "              loss='binary_crossentropy',\n",
        "              metrics=['accuracy'])\n",
        "              \n",
        "epochs=20   \n",
        "\n",
        "history = model.fit(partial_X_train,\n",
        "                    partial_y_train,\n",
        "                    epochs=epochs,\n",
        "                    batch_size=64,\n",
        "                    validation_data=(X_val, y_val),\n",
        "                    verbose=1)"
      ],
      "metadata": {
        "colab": {
          "base_uri": "https://localhost:8080/"
        },
        "id": "GFctJLK3z6FO",
        "outputId": "cd894a1e-0e60-4dfc-9389-9620240e56bf"
      },
      "execution_count": 55,
      "outputs": [
        {
          "output_type": "stream",
          "name": "stdout",
          "text": [
            "Epoch 1/20\n",
            "2128/2128 [==============================] - 15s 6ms/step - loss: 0.3950 - accuracy: 0.8184 - val_loss: 0.3242 - val_accuracy: 0.8592\n",
            "Epoch 2/20\n",
            "2128/2128 [==============================] - 13s 6ms/step - loss: 0.2954 - accuracy: 0.8735 - val_loss: 0.3040 - val_accuracy: 0.8675\n",
            "Epoch 3/20\n",
            "2128/2128 [==============================] - 13s 6ms/step - loss: 0.2564 - accuracy: 0.8923 - val_loss: 0.3115 - val_accuracy: 0.8660\n",
            "Epoch 4/20\n",
            "2128/2128 [==============================] - 13s 6ms/step - loss: 0.2225 - accuracy: 0.9090 - val_loss: 0.3174 - val_accuracy: 0.8705\n",
            "Epoch 5/20\n",
            "2128/2128 [==============================] - 13s 6ms/step - loss: 0.1900 - accuracy: 0.9244 - val_loss: 0.3403 - val_accuracy: 0.8658\n",
            "Epoch 6/20\n",
            "2128/2128 [==============================] - 13s 6ms/step - loss: 0.1575 - accuracy: 0.9380 - val_loss: 0.3643 - val_accuracy: 0.8668\n",
            "Epoch 7/20\n",
            "2128/2128 [==============================] - 14s 7ms/step - loss: 0.1281 - accuracy: 0.9507 - val_loss: 0.4045 - val_accuracy: 0.8643\n",
            "Epoch 8/20\n",
            "2128/2128 [==============================] - 13s 6ms/step - loss: 0.1028 - accuracy: 0.9616 - val_loss: 0.4697 - val_accuracy: 0.8564\n",
            "Epoch 9/20\n",
            "2128/2128 [==============================] - 13s 6ms/step - loss: 0.0831 - accuracy: 0.9697 - val_loss: 0.5076 - val_accuracy: 0.8556\n",
            "Epoch 10/20\n",
            "2128/2128 [==============================] - 13s 6ms/step - loss: 0.0695 - accuracy: 0.9748 - val_loss: 0.5358 - val_accuracy: 0.8554\n",
            "Epoch 11/20\n",
            "2128/2128 [==============================] - 13s 6ms/step - loss: 0.0571 - accuracy: 0.9792 - val_loss: 0.6283 - val_accuracy: 0.8623\n",
            "Epoch 12/20\n",
            "2128/2128 [==============================] - 13s 6ms/step - loss: 0.0491 - accuracy: 0.9826 - val_loss: 0.6426 - val_accuracy: 0.8559\n",
            "Epoch 13/20\n",
            "2128/2128 [==============================] - 13s 6ms/step - loss: 0.0422 - accuracy: 0.9847 - val_loss: 0.6955 - val_accuracy: 0.8569\n",
            "Epoch 14/20\n",
            "2128/2128 [==============================] - 13s 6ms/step - loss: 0.0395 - accuracy: 0.9858 - val_loss: 0.7231 - val_accuracy: 0.8534\n",
            "Epoch 15/20\n",
            "2128/2128 [==============================] - 13s 6ms/step - loss: 0.0360 - accuracy: 0.9869 - val_loss: 0.7629 - val_accuracy: 0.8547\n",
            "Epoch 16/20\n",
            "2128/2128 [==============================] - 14s 7ms/step - loss: 0.0320 - accuracy: 0.9884 - val_loss: 0.8131 - val_accuracy: 0.8509\n",
            "Epoch 17/20\n",
            "2128/2128 [==============================] - 13s 6ms/step - loss: 0.0336 - accuracy: 0.9876 - val_loss: 0.7704 - val_accuracy: 0.8548\n",
            "Epoch 18/20\n",
            "2128/2128 [==============================] - 13s 6ms/step - loss: 0.0289 - accuracy: 0.9892 - val_loss: 0.8303 - val_accuracy: 0.8557\n",
            "Epoch 19/20\n",
            "2128/2128 [==============================] - 13s 6ms/step - loss: 0.0279 - accuracy: 0.9896 - val_loss: 0.8150 - val_accuracy: 0.8542\n",
            "Epoch 20/20\n",
            "2128/2128 [==============================] - 13s 6ms/step - loss: 0.0279 - accuracy: 0.9897 - val_loss: 0.8546 - val_accuracy: 0.8541\n"
          ]
        }
      ]
    },
    {
      "cell_type": "code",
      "source": [
        "history_dict = history.history\n",
        "print(history_dict.keys())"
      ],
      "metadata": {
        "colab": {
          "base_uri": "https://localhost:8080/"
        },
        "id": "3aoXUT1Zz87h",
        "outputId": "c7613fdf-bb4a-4fc0-8504-77b225a0eaf3"
      },
      "execution_count": 56,
      "outputs": [
        {
          "output_type": "stream",
          "name": "stdout",
          "text": [
            "dict_keys(['loss', 'accuracy', 'val_loss', 'val_accuracy'])\n"
          ]
        }
      ]
    },
    {
      "cell_type": "code",
      "source": [
        "cc = history_dict['accuracy']\n",
        "val_acc = history_dict['val_accuracy']\n",
        "loss = history_dict['loss']\n",
        "val_loss = history_dict['val_loss']\n",
        "\n",
        "epochs = range(1, len(acc) + 1)\n",
        "\n",
        "plt.plot(epochs, loss, 'bo', label='Training loss')\n",
        "\n",
        "plt.plot(epochs, val_loss, 'b', label='Validation loss')\n",
        "plt.title('Training and validation loss')\n",
        "plt.xlabel('Epochs')\n",
        "plt.ylabel('Loss')\n",
        "plt.legend()\n",
        "\n",
        "plt.show()"
      ],
      "metadata": {
        "colab": {
          "base_uri": "https://localhost:8080/",
          "height": 295
        },
        "id": "PVWkCg1y0B3a",
        "outputId": "cd01aa3d-4b26-4e83-ac79-a96e1ab5c39c"
      },
      "execution_count": 57,
      "outputs": [
        {
          "output_type": "display_data",
          "data": {
            "text/plain": [
              "<Figure size 432x288 with 1 Axes>"
            ],
            "image/png": "[encoded data removed]"
          },
          "metadata": {
            "needs_background": "light"
          }
        }
      ]
    },
    {
      "cell_type": "code",
      "source": [
        "plt.clf()   \n",
        "\n",
        "plt.plot(epochs, acc, 'bo', label='Training acc')\n",
        "plt.plot(epochs, val_acc, 'b', label='Validation acc')\n",
        "plt.title('Training and validation accuracy')\n",
        "plt.xlabel('Epochs')\n",
        "plt.ylabel('Accuracy')\n",
        "plt.legend()\n",
        "\n",
        "plt.show()"
      ],
      "metadata": {
        "colab": {
          "base_uri": "https://localhost:8080/",
          "height": 295
        },
        "id": "zUtpKVSI0Em9",
        "outputId": "88bf775a-05cd-4af2-fd0b-44247af18c97"
      },
      "execution_count": 58,
      "outputs": [
        {
          "output_type": "display_data",
          "data": {
            "text/plain": [
              "<Figure size 432x288 with 1 Axes>"
            ],
            "image/png": "[encoded data removed]"
          },
          "metadata": {
            "needs_background": "light"
          }
        }
      ]
    },
    {
      "cell_type": "code",
      "source": [
        "results = model.evaluate(X_test,  y_test, verbose=2)\n",
        "\n",
        "print(results)"
      ],
      "metadata": {
        "colab": {
          "base_uri": "https://localhost:8080/"
        },
        "id": "dq6tGh6z0HJM",
        "outputId": "2ee6a28a-0fa6-4303-97e0-21505a6081b0"
      },
      "execution_count": 59,
      "outputs": [
        {
          "output_type": "stream",
          "name": "stdout",
          "text": [
            "1537/1537 - 4s - loss: 0.8631 - accuracy: 0.8509 - 4s/epoch - 2ms/step\n",
            "[0.8630746603012085, 0.8509469628334045]\n"
          ]
        }
      ]
    },
    {
      "cell_type": "markdown",
      "source": [
        "# 회고\n",
        "\n",
        "초반에 라이브러리를 불러오려고 하는데 계속 오류가 떠서 문제 어디 문제인지 파악하였고 from konlpy.tag import Mecab 여기서 계속 오류가 발생했다는 것을 알고 설치를 하였다.   \n",
        "이번이 3번째 NLP 익스 였던 것 같은데 여전히 NLP는 어려웠다. 토큰화, 불용어 제거 및 여러 세부 과정들이 아직까지는 낯선 느낌이였다."
      ],
      "metadata": {
        "id": "l9F2YtTwUrPO"
      }
    }
  ],
  "metadata": {
    "accelerator": "GPU",
    "colab": {
      "name": "영화리뷰 텍스트 감성분석하기.ipynb",
      "provenance": [],
      "collapsed_sections": []
    },
    "gpuClass": "standard",
    "kernelspec": {
      "display_name": "Python 3",
      "name": "python3"
    },
    "language_info": {
      "name": "python"
    }
  },
  "nbformat": 4,
  "nbformat_minor": 0
}